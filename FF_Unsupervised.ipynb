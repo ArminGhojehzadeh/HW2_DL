{
 "cells": [
  {
   "cell_type": "markdown",
   "id": "78fbd641",
   "metadata": {},
   "source": [
    "# Import library"
   ]
  },
  {
   "cell_type": "code",
   "execution_count": 9,
   "id": "47583d43",
   "metadata": {},
   "outputs": [],
   "source": [
    "import numpy as np\n",
    "import torch\n",
    "from matplotlib import pyplot as plt\n",
    "from scipy.signal import convolve2d\n",
    "from torch import tensor, Tensor\n",
    "import torchvision\n",
    "from tqdm import tqdm\n",
    "import os\n",
    "import torchvision\n",
    "from torch import nn\n",
    "from torch.utils.data import DataLoader, Subset\n",
    "from tqdm import tqdm\n",
    "import matplotlib.pyplot as plt\n",
    "import sklearn\n",
    "from sklearn.metrics import accuracy_score"
   ]
  },
  {
   "cell_type": "markdown",
   "id": "64048e7e",
   "metadata": {},
   "source": [
    "# Functions"
   ]
  },
  {
   "cell_type": "code",
   "execution_count": 21,
   "id": "94d2a953",
   "metadata": {},
   "outputs": [],
   "source": [
    "def prepare_data():\n",
    "    # Define the transform function\n",
    "    transform = torchvision.transforms.Compose([\n",
    "        torchvision.transforms.ToTensor()\n",
    "    ])\n",
    "\n",
    "    # Load the train MNIST dataset\n",
    "    train_mnist_dataset = torchvision.datasets.MNIST(root=\"./\", train=True, transform=transform,\n",
    "                                                     download=True)\n",
    "    n_train_samples = len(train_mnist_dataset)\n",
    "    # Load the test MNIST dataset\n",
    "    test_mnist_dataset = torchvision.datasets.MNIST(root=\"./\", train=False, transform=transform,\n",
    "                                                    download=True)\n",
    "\n",
    "    if not os.path.exists(\"transformed_dataset.pt\"):\n",
    "        random_pairs = np.random.randint(n_train_samples, size=[n_train_samples, 2])\n",
    "        random_pairs = [(row[0], row[1]) for row in random_pairs]\n",
    "\n",
    "        # Transform the data\n",
    "        transformed_dataset = [\n",
    "            create_negative_image(train_mnist_dataset[pair[0]][0].squeeze(), train_mnist_dataset[pair[1]][0].squeeze())\n",
    "            for pair in tqdm(random_pairs)]\n",
    "\n",
    "        # Save the transformed images to a folder\n",
    "        torch.save(transformed_dataset, 'transformed_dataset.pt')"
   ]
  },
  {
   "cell_type": "code",
   "execution_count": 3,
   "id": "dc88e8df",
   "metadata": {},
   "outputs": [],
   "source": [
    "def create_mask(shape, iterations: int = 10):\n",
    "    \"\"\"\n",
    "    Create a binary mask as described in (Hinton, 2022): start with a random binary image and then repeatedly blur\n",
    "    the image with a filter, horizontally and vertically.\n",
    "\n",
    "    Parameters\n",
    "    ----------\n",
    "    shape : tuple\n",
    "        The shape of the output mask (height, width).\n",
    "    iterations : int\n",
    "        The number of times to blur the image.\n",
    "\n",
    "    Returns\n",
    "    -------\n",
    "    numpy.ndarray\n",
    "        A binary mask with the specified shape, containing fairly large regions of ones and zeros.\n",
    "    \"\"\"\n",
    "\n",
    "    blur_filter_1 = np.array(((0, 0, 0), (0.25, 0.5, 0.25), (0, 0, 0)))\n",
    "    blur_filter_2 = blur_filter_1.T\n",
    "\n",
    "    # Create a random binary image\n",
    "    image = np.random.randint(0, 2, size=shape)\n",
    "\n",
    "    # Blur the image with the specified filter\n",
    "    for i in range(iterations):\n",
    "        image = np.abs(convolve2d(image, blur_filter_1, mode='same') / blur_filter_1.sum())\n",
    "        image = np.abs(convolve2d(image, blur_filter_2, mode='same') / blur_filter_2.sum())\n",
    "\n",
    "    # Binarize the blurred image, i.e. threshold it at 0.5\n",
    "    mask = np.round(image).astype(np.uint8)\n",
    "\n",
    "    return tensor(mask)"
   ]
  },
  {
   "cell_type": "code",
   "execution_count": 4,
   "id": "ffed9ba7",
   "metadata": {},
   "outputs": [],
   "source": [
    "def create_negative_image(image_1: Tensor, image_2: Tensor):\n",
    "    \"\"\"\n",
    "    Create a negative image by combining two images with a binary mask.\n",
    "\n",
    "    Parameters:\n",
    "    image_1 (Tensor): The first image to be combined.\n",
    "    image_2 (Tensor): The second image to be combined.\n",
    "\n",
    "    Returns:\n",
    "    Tensor: The negative image created by combining the two input images.\n",
    "\n",
    "    Raises:\n",
    "    AssertionError: If the shapes of `image_1` and `image_2` are not the same.\n",
    "\n",
    "    Examples:\n",
    "    >>> image_1 = np.random.randint(0, 2, size=(5, 5))\n",
    "    >>> image_2 = np.random.randint(0, 2, size=(5, 5))\n",
    "    >>> create_negative_image(image_1, image_2)\n",
    "    array([[0 0 0 0 1]\n",
    "           [1 1 0 1 1]\n",
    "           [0 0 0 1 1]\n",
    "           [0 1 1 1 0]\n",
    "           [1 1 0 0 1]])\n",
    "    \"\"\"\n",
    "\n",
    "    assert image_1.shape == image_2.shape, \"Incompatible images and mask shapes.\"\n",
    "\n",
    "    mask = create_mask((image_1.shape[0], image_1.shape[1]))\n",
    "\n",
    "    image_1 = torch.mul(image_1, mask)\n",
    "    image_2 = torch.mul(image_2, 1 - mask)\n",
    "\n",
    "    return torch.add(image_1, image_2)"
   ]
  },
  {
   "cell_type": "code",
   "execution_count": 5,
   "id": "55007895",
   "metadata": {},
   "outputs": [],
   "source": [
    "def create_negative_batch(images: Tensor):\n",
    "    neg_imgs = []\n",
    "    batch_size = images.shape[0]\n",
    "    for _ in range(batch_size):\n",
    "        idx1, idx2 = np.random.randint(batch_size, size=2)\n",
    "        neg_imgs.append(create_negative_image(images[idx1].squeeze(), images[idx2].squeeze()))\n",
    "    return torch.unsqueeze(torch.stack(neg_imgs), dim=1)"
   ]
  },
  {
   "cell_type": "code",
   "execution_count": 10,
   "id": "d51e13d4",
   "metadata": {},
   "outputs": [],
   "source": [
    "def goodness_score(pos_acts, neg_acts, threshold=2):\n",
    "    \"\"\"\n",
    "    Compute the goodness score for a given set of positive and negative activations.\n",
    "\n",
    "    Parameters:\n",
    "\n",
    "    pos_acts (torch.Tensor): Numpy array of positive activations.\n",
    "    neg_acts (torch.Tensor): Numpy array of negative activations.\n",
    "    threshold (int, optional): Threshold value used to compute the score. Default is 2.\n",
    "\n",
    "    Returns:\n",
    "\n",
    "    goodness (torch.Tensor): Goodness score computed as the sum of positive and negative goodness values. Note that this\n",
    "    score is actually the quantity that is optimized and not the goodness itself. The goodness itself is the same\n",
    "    quantity but without the threshold subtraction\n",
    "    \"\"\"\n",
    "\n",
    "    pos_goodness = -torch.sum(torch.pow(pos_acts, 2)) + threshold\n",
    "    neg_goodness = torch.sum(torch.pow(neg_acts, 2)) - threshold\n",
    "    return torch.add(pos_goodness, neg_goodness)"
   ]
  },
  {
   "cell_type": "code",
   "execution_count": 11,
   "id": "944996ce",
   "metadata": {},
   "outputs": [],
   "source": [
    "def get_metrics(preds, labels):\n",
    "    acc = accuracy_score(labels, preds)\n",
    "    return dict(accuracy_score=acc)"
   ]
  },
  {
   "cell_type": "code",
   "execution_count": 12,
   "id": "66b46940",
   "metadata": {},
   "outputs": [],
   "source": [
    "class FF_Layer(nn.Linear):\n",
    "    def __init__(self, in_features: int, out_features: int, n_epochs: int, bias: bool, device):\n",
    "        super().__init__(in_features, out_features, bias=bias)\n",
    "        self.n_epochs = n_epochs\n",
    "        self.opt = torch.optim.Adam(self.parameters())\n",
    "        self.goodness = goodness_score\n",
    "        self.to(device)\n",
    "        self.ln_layer = nn.LayerNorm(normalized_shape=[1, out_features]).to(device)\n",
    "\n",
    "    def ff_train(self, pos_acts, neg_acts):\n",
    "        \"\"\"\n",
    "        Train the layer using positive and negative activations.\n",
    "\n",
    "        Parameters:\n",
    "\n",
    "        pos_acts (numpy.ndarray): Numpy array of positive activations.\n",
    "        neg_acts (numpy.ndarray): Numpy array of negative activations.\n",
    "        \"\"\"\n",
    "\n",
    "        self.opt.zero_grad()\n",
    "        goodness = self.goodness(pos_acts, neg_acts)\n",
    "        goodness.backward()\n",
    "        self.opt.step()\n",
    "\n",
    "    def forward(self, input):\n",
    "        input = super().forward(input)\n",
    "        input = self.ln_layer(input.detach())\n",
    "        return input\n"
   ]
  },
  {
   "cell_type": "code",
   "execution_count": 13,
   "id": "ce1eff56",
   "metadata": {},
   "outputs": [],
   "source": [
    "class Unsupervised_FF(nn.Module):\n",
    "    def __init__(self, n_layers: int = 4, n_neurons=2000, input_size: int = 28 * 28, n_epochs: int = 100,\n",
    "                 bias: bool = True, n_classes: int = 10, n_hid_to_log: int = 3, device=torch.device(\"cuda:0\")):\n",
    "        super().__init__()\n",
    "        self.n_hid_to_log = n_hid_to_log\n",
    "        self.n_epochs = n_epochs\n",
    "        self.device = device\n",
    "\n",
    "        ff_layers = [\n",
    "            FF_Layer(in_features=input_size if idx == 0 else n_neurons,\n",
    "                     out_features=n_neurons,\n",
    "                     n_epochs=n_epochs,\n",
    "                     bias=bias,\n",
    "                     device=device) for idx in range(n_layers)]\n",
    "\n",
    "        self.ff_layers = ff_layers\n",
    "        self.last_layer = nn.Linear(in_features=n_neurons * n_hid_to_log, out_features=n_classes, bias=bias)\n",
    "        self.to(device)\n",
    "        self.opt = torch.optim.Adam(self.last_layer.parameters())\n",
    "        self.loss = torch.nn.CrossEntropyLoss(reduction=\"mean\")\n",
    "\n",
    "    def train_ff_layers(self, pos_dataloader, neg_dataloader):\n",
    "        outer_tqdm = tqdm(range(self.n_epochs), desc=\"Training FF Layers\", position=0)\n",
    "        for epoch in outer_tqdm:\n",
    "            inner_tqdm = tqdm(zip(pos_dataloader, neg_dataloader), desc=f\"Training FF Layers | Epoch {epoch}\",\n",
    "                              leave=False, position=1)\n",
    "            for pos_data, neg_imgs in inner_tqdm:\n",
    "                pos_imgs, _ = pos_data\n",
    "                pos_acts = torch.reshape(pos_imgs, (pos_imgs.shape[0], 1, -1)).to(self.device)\n",
    "                neg_acts = torch.reshape(neg_imgs, (neg_imgs.shape[0], 1, -1)).to(self.device)\n",
    "\n",
    "                for idx, layer in enumerate(self.ff_layers):\n",
    "                    pos_acts = layer(pos_acts)\n",
    "                    neg_acts = layer(neg_acts)\n",
    "                    layer.ff_train(pos_acts, neg_acts)\n",
    "\n",
    "    def train_last_layer(self, dataloader: DataLoader):\n",
    "        num_examples = len(dataloader)\n",
    "        outer_tqdm = tqdm(range(self.n_epochs), desc=\"Training Last Layer\", position=0)\n",
    "        loss_list = []\n",
    "        for epoch in outer_tqdm:\n",
    "            epoch_loss = 0\n",
    "            inner_tqdm = tqdm(dataloader, desc=f\"Training Last Layer | Epoch {epoch}\", leave=False, position=1)\n",
    "            for images, labels in inner_tqdm:\n",
    "                images = images.to(self.device)\n",
    "                labels = labels.to(self.device)\n",
    "                self.opt.zero_grad()\n",
    "                preds = self(images)\n",
    "                loss = self.loss(preds, labels)\n",
    "                epoch_loss += loss\n",
    "                loss.backward()\n",
    "                self.opt.step()\n",
    "            loss_list.append(epoch_loss / num_examples)\n",
    "            # Update progress bar with current loss\n",
    "        return [l.detach().cpu().numpy() for l in loss_list]\n",
    "\n",
    "    def forward(self, image: torch.Tensor):\n",
    "        image = image.to(self.device)\n",
    "        image = torch.reshape(image, (image.shape[0], 1, -1))\n",
    "        concat_output = []\n",
    "        for idx, layer in enumerate(self.ff_layers):\n",
    "            image = layer(image)\n",
    "            if idx > len(self.ff_layers) - self.n_hid_to_log - 1:\n",
    "                concat_output.append(image)\n",
    "        concat_output = torch.concat(concat_output, 2)\n",
    "        logits = self.last_layer(concat_output)\n",
    "        return logits.squeeze()\n",
    "\n",
    "    def evaluate(self, dataloader: DataLoader, dataset_type: str = \"train\"):\n",
    "        self.eval()\n",
    "        inner_tqdm = tqdm(dataloader, desc=f\"Evaluating model\", leave=False, position=1)\n",
    "        all_labels = []\n",
    "        all_preds = []\n",
    "        for images, labels in inner_tqdm:\n",
    "            images = images.to(self.device)\n",
    "            labels = labels.to(self.device)\n",
    "            preds = self(images)\n",
    "            preds = torch.argmax(preds, 1)\n",
    "            all_labels.append(labels.detach().cpu())\n",
    "            all_preds.append(preds.detach().cpu())\n",
    "        all_labels = torch.concat(all_labels, 0).numpy()\n",
    "        all_preds = torch.concat(all_preds, 0).numpy()\n",
    "        metrics_dict = get_metrics(all_preds, all_labels)\n",
    "        print(f\"{dataset_type} dataset scores: \", \"\\n\".join([f\"{key}: {value}\" for key, value in metrics_dict.items()]))\n",
    "\n"
   ]
  },
  {
   "cell_type": "code",
   "execution_count": 14,
   "id": "519a7756",
   "metadata": {},
   "outputs": [],
   "source": [
    "def train(model: Unsupervised_FF, pos_dataloader: DataLoader, neg_dataloader: DataLoader):\n",
    "    model.train()\n",
    "    model.train_ff_layers(pos_dataloader, neg_dataloader)\n",
    "    return model.train_last_layer(pos_dataloader)\n"
   ]
  },
  {
   "cell_type": "code",
   "execution_count": 32,
   "id": "0ad77403",
   "metadata": {},
   "outputs": [],
   "source": [
    "def plot_loss(loss):\n",
    "    # plot the loss over epochs\n",
    "    fig = plt.figure()\n",
    "    plt.plot(list(range(len(loss))),loss)\n",
    "    plt.xlabel(\"Epochs\")\n",
    "    plt.ylabel(\"Loss\")\n",
    "    plt.title(\"Loss Plot\")\n",
    "    plt.savefig(\"Loss Plot.png\")\n",
    "    plt.show()"
   ]
  },
  {
   "cell_type": "markdown",
   "id": "2ac4eec7",
   "metadata": {},
   "source": [
    "# load mnist and run"
   ]
  },
  {
   "cell_type": "code",
   "execution_count": 36,
   "id": "8e0fe8b3",
   "metadata": {},
   "outputs": [],
   "source": [
    "mnist = torchvision.datasets.MNIST(root='data/', download=True)\n",
    "\n",
    "# Get the first instance of the digit 1\n",
    "image_1, _ = mnist[np.random.randint(len(mnist))]\n",
    "image_2, _ = mnist[np.random.randint(len(mnist))]\n",
    "\n",
    "image_1 = torch.as_tensor(np.asarray(image_1))\n",
    "image_2 = torch.as_tensor(np.asarray(image_2))\n",
    "\n",
    "mask = create_mask((28, 28))\n",
    "image = create_negative_image(image_1, image_2)\n"
   ]
  },
  {
   "cell_type": "code",
   "execution_count": 37,
   "id": "30244455",
   "metadata": {},
   "outputs": [
    {
     "data": {
      "image/png": "[encoded data removed]",
      "text/plain": [
       "<Figure size 640x480 with 5 Axes>"
      ]
     },
     "metadata": {},
     "output_type": "display_data"
    }
   ],
   "source": [
    "# Create the subplot\n",
    "fig, ax = plt.subplots(1, 5)\n",
    "images = [image_1, image_2, mask, 1 - mask, image]\n",
    "names = [\"image_1\", \"image_2\", \"mask\", \"1-mask\", \"image\"]\n",
    "# Add the images to the subplot\n",
    "for i, image in enumerate(images):\n",
    "    ax[i].imshow(image, cmap='gray')\n",
    "    ax[i].axis('off')\n",
    "    ax[i].set_title(names[i], y=-0.5)\n",
    "\n",
    "# Show the subplot\n",
    "plt.tight_layout()\n",
    "plt.show()"
   ]
  },
  {
   "cell_type": "code",
   "execution_count": 22,
   "id": "be582bd1",
   "metadata": {},
   "outputs": [
    {
     "name": "stdout",
     "output_type": "stream",
     "text": [
      "Downloading http://yann.lecun.com/exdb/mnist/train-images-idx3-ubyte.gz\n",
      "Downloading http://yann.lecun.com/exdb/mnist/train-images-idx3-ubyte.gz to ./MNIST\\raw\\train-images-idx3-ubyte.gz\n"
     ]
    },
    {
     "name": "stderr",
     "output_type": "stream",
     "text": [
      "100%|███████████████████████████████████████████████████████████████████| 9912422/9912422 [00:02<00:00, 3410036.83it/s]\n"
     ]
    },
    {
     "name": "stdout",
     "output_type": "stream",
     "text": [
      "Extracting ./MNIST\\raw\\train-images-idx3-ubyte.gz to ./MNIST\\raw\n",
      "\n",
      "Downloading http://yann.lecun.com/exdb/mnist/train-labels-idx1-ubyte.gz\n",
      "Downloading http://yann.lecun.com/exdb/mnist/train-labels-idx1-ubyte.gz to ./MNIST\\raw\\train-labels-idx1-ubyte.gz\n"
     ]
    },
    {
     "name": "stderr",
     "output_type": "stream",
     "text": [
      "100%|███████████████████████████████████████████████████████████████████████| 28881/28881 [00:00<00:00, 3060295.93it/s]\n"
     ]
    },
    {
     "name": "stdout",
     "output_type": "stream",
     "text": [
      "Extracting ./MNIST\\raw\\train-labels-idx1-ubyte.gz to ./MNIST\\raw\n",
      "\n",
      "Downloading http://yann.lecun.com/exdb/mnist/t10k-images-idx3-ubyte.gz\n",
      "Downloading http://yann.lecun.com/exdb/mnist/t10k-images-idx3-ubyte.gz to ./MNIST\\raw\\t10k-images-idx3-ubyte.gz\n"
     ]
    },
    {
     "name": "stderr",
     "output_type": "stream",
     "text": [
      "100%|███████████████████████████████████████████████████████████████████| 1648877/1648877 [00:00<00:00, 2683986.10it/s]\n"
     ]
    },
    {
     "name": "stdout",
     "output_type": "stream",
     "text": [
      "Extracting ./MNIST\\raw\\t10k-images-idx3-ubyte.gz to ./MNIST\\raw\n",
      "\n",
      "Downloading http://yann.lecun.com/exdb/mnist/t10k-labels-idx1-ubyte.gz\n",
      "Downloading http://yann.lecun.com/exdb/mnist/t10k-labels-idx1-ubyte.gz to ./MNIST\\raw\\t10k-labels-idx1-ubyte.gz\n"
     ]
    },
    {
     "name": "stderr",
     "output_type": "stream",
     "text": [
      "100%|██████████████████████████████████████████████████████████████████████████████████████| 4542/4542 [00:00<?, ?it/s]\n"
     ]
    },
    {
     "name": "stdout",
     "output_type": "stream",
     "text": [
      "Extracting ./MNIST\\raw\\t10k-labels-idx1-ubyte.gz to ./MNIST\\raw\n",
      "\n"
     ]
    },
    {
     "name": "stderr",
     "output_type": "stream",
     "text": [
      "100%|██████████████████████████████████████████████████████████████████████████| 60000/60000 [00:33<00:00, 1790.98it/s]\n"
     ]
    }
   ],
   "source": [
    "prepare_data()"
   ]
  },
  {
   "cell_type": "code",
   "execution_count": 23,
   "id": "ca89cf30",
   "metadata": {},
   "outputs": [],
   "source": [
    "    # Load the MNIST dataset\n",
    "    transform = torchvision.transforms.Compose([\n",
    "        torchvision.transforms.ToTensor()\n",
    "    ])\n",
    "    pos_dataset = torchvision.datasets.MNIST(root='./', download=False, transform=transform, train=True)\n",
    "    # pos_dataset = Subset(pos_dataset, list(range(1000)))\n",
    "    # Create the data loader\n",
    "    pos_dataloader = DataLoader(pos_dataset, batch_size=64, shuffle=True, num_workers=4)"
   ]
  },
  {
   "cell_type": "code",
   "execution_count": 24,
   "id": "b5b6c592",
   "metadata": {},
   "outputs": [],
   "source": [
    "    # Load the transformed images\n",
    "    neg_dataset = torch.load('transformed_dataset.pt')\n",
    "    # Create the data loader\n",
    "    neg_dataloader = DataLoader(neg_dataset, batch_size=64, shuffle=True, num_workers=4)"
   ]
  },
  {
   "cell_type": "code",
   "execution_count": 25,
   "id": "dc74333f",
   "metadata": {},
   "outputs": [],
   "source": [
    "    # Load the test images\n",
    "    test_dataset = torchvision.datasets.MNIST(root='./', train=False, download=False, transform=transform)\n",
    "    # Create the data loader\n",
    "    test_dataloader = DataLoader(test_dataset, batch_size=64, shuffle=True, num_workers=4)"
   ]
  },
  {
   "cell_type": "code",
   "execution_count": 26,
   "id": "567fcf70",
   "metadata": {},
   "outputs": [],
   "source": [
    "device = torch.device(\"cuda:0\")\n",
    "unsupervised_ff = Unsupervised_FF(device=device, n_epochs=2)"
   ]
  },
  {
   "cell_type": "code",
   "execution_count": 27,
   "id": "5937104c",
   "metadata": {},
   "outputs": [
    {
     "name": "stderr",
     "output_type": "stream",
     "text": [
      "Training FF Layers:   0%|                                                                        | 0/2 [00:00<?, ?it/s]\n",
      "Training FF Layers | Epoch 0: 0it [00:00, ?it/s]\u001b[A\n",
      "Training FF Layers | Epoch 0: 1it [00:00,  2.20it/s]\u001b[A\n",
      "Training FF Layers | Epoch 0: 10it [00:00, 22.66it/s]\u001b[A\n",
      "Training FF Layers | Epoch 0: 19it [00:00, 38.92it/s]\u001b[A\n",
      "Training FF Layers | Epoch 0: 42it [00:00, 86.45it/s]\u001b[A\n",
      "Training FF Layers | Epoch 0: 64it [00:00, 121.27it/s]\u001b[A\n",
      "Training FF Layers | Epoch 0: 86it [00:00, 146.75it/s]\u001b[A\n",
      "Training FF Layers | Epoch 0: 110it [00:01, 169.06it/s]\u001b[A\n",
      "Training FF Layers | Epoch 0: 132it [00:01, 183.36it/s]\u001b[A\n",
      "Training FF Layers | Epoch 0: 155it [00:01, 196.62it/s]\u001b[A\n",
      "Training FF Layers | Epoch 0: 178it [00:01, 204.45it/s]\u001b[A\n",
      "Training FF Layers | Epoch 0: 203it [00:01, 214.04it/s]\u001b[A\n",
      "Training FF Layers | Epoch 0: 227it [00:01, 220.38it/s]\u001b[A\n",
      "Training FF Layers | Epoch 0: 253it [00:01, 227.26it/s]\u001b[A\n",
      "Training FF Layers | Epoch 0: 277it [00:01, 230.93it/s]\u001b[A\n",
      "Training FF Layers | Epoch 0: 301it [00:01, 223.00it/s]\u001b[A\n",
      "Training FF Layers | Epoch 0: 325it [00:02, 223.41it/s]\u001b[A\n",
      "Training FF Layers | Epoch 0: 348it [00:02, 223.05it/s]\u001b[A\n",
      "Training FF Layers | Epoch 0: 373it [00:02, 224.47it/s]\u001b[A\n",
      "Training FF Layers | Epoch 0: 400it [00:02, 231.34it/s]\u001b[A\n",
      "Training FF Layers | Epoch 0: 427it [00:02, 235.76it/s]\u001b[A\n",
      "Training FF Layers | Epoch 0: 454it [00:02, 238.83it/s]\u001b[A\n",
      "Training FF Layers | Epoch 0: 479it [00:02, 241.38it/s]\u001b[A\n",
      "Training FF Layers | Epoch 0: 504it [00:02, 242.28it/s]\u001b[A\n",
      "Training FF Layers | Epoch 0: 531it [00:02, 243.39it/s]\u001b[A\n",
      "Training FF Layers | Epoch 0: 556it [00:03, 230.70it/s]\u001b[A\n",
      "Training FF Layers | Epoch 0: 580it [00:03, 222.39it/s]\u001b[A\n",
      "Training FF Layers | Epoch 0: 603it [00:03, 221.85it/s]\u001b[A\n",
      "Training FF Layers | Epoch 0: 626it [00:03, 218.15it/s]\u001b[A\n",
      "Training FF Layers | Epoch 0: 648it [00:03, 203.93it/s]\u001b[A\n",
      "Training FF Layers | Epoch 0: 669it [00:03, 202.90it/s]\u001b[A\n",
      "Training FF Layers | Epoch 0: 691it [00:03, 199.46it/s]\u001b[A\n",
      "Training FF Layers | Epoch 0: 715it [00:03, 201.72it/s]\u001b[A\n",
      "Training FF Layers | Epoch 0: 736it [00:03, 200.77it/s]\u001b[A\n",
      "Training FF Layers | Epoch 0: 757it [00:04, 202.79it/s]\u001b[A\n",
      "Training FF Layers | Epoch 0: 779it [00:04, 199.00it/s]\u001b[A\n",
      "Training FF Layers | Epoch 0: 800it [00:04, 200.46it/s]\u001b[A\n",
      "Training FF Layers | Epoch 0: 821it [00:04, 198.30it/s]\u001b[A\n",
      "Training FF Layers | Epoch 0: 841it [00:04, 196.10it/s]\u001b[A\n",
      "Training FF Layers | Epoch 0: 862it [00:04, 198.26it/s]\u001b[A\n",
      "Training FF Layers | Epoch 0: 885it [00:04, 200.03it/s]\u001b[A\n",
      "Training FF Layers | Epoch 0: 906it [00:04, 202.49it/s]\u001b[A\n",
      "Training FF Layers | Epoch 0: 927it [00:04, 200.04it/s]\u001b[A\n",
      "Training FF Layers:  50%|████████████████████████████████                                | 1/2 [00:26<00:26, 26.48s/it]\n",
      "Training FF Layers | Epoch 1: 0it [00:00, ?it/s]\u001b[A\n",
      "Training FF Layers | Epoch 1: 1it [00:01,  1.52s/it]\u001b[A\n",
      "Training FF Layers | Epoch 1: 11it [00:01,  9.15it/s]\u001b[A\n",
      "Training FF Layers | Epoch 1: 30it [00:01, 28.58it/s]\u001b[A\n",
      "Training FF Layers | Epoch 1: 53it [00:01, 55.47it/s]\u001b[A\n",
      "Training FF Layers | Epoch 1: 76it [00:01, 83.08it/s]\u001b[A\n",
      "Training FF Layers | Epoch 1: 103it [00:02, 115.67it/s]\u001b[A\n",
      "Training FF Layers | Epoch 1: 126it [00:02, 135.50it/s]\u001b[A\n",
      "Training FF Layers | Epoch 1: 148it [00:02, 148.87it/s]\u001b[A\n",
      "Training FF Layers | Epoch 1: 170it [00:02, 161.75it/s]\u001b[A\n",
      "Training FF Layers | Epoch 1: 190it [00:02, 169.61it/s]\u001b[A\n",
      "Training FF Layers | Epoch 1: 210it [00:02, 176.53it/s]\u001b[A\n",
      "Training FF Layers | Epoch 1: 231it [00:02, 183.48it/s]\u001b[A\n",
      "Training FF Layers | Epoch 1: 254it [00:02, 189.96it/s]\u001b[A\n",
      "Training FF Layers | Epoch 1: 275it [00:02, 195.19it/s]\u001b[A\n",
      "Training FF Layers | Epoch 1: 296it [00:03, 196.25it/s]\u001b[A\n",
      "Training FF Layers | Epoch 1: 317it [00:03, 190.56it/s]\u001b[A\n",
      "Training FF Layers | Epoch 1: 337it [00:03, 188.35it/s]\u001b[A\n",
      "Training FF Layers | Epoch 1: 359it [00:03, 194.17it/s]\u001b[A\n",
      "Training FF Layers | Epoch 1: 382it [00:03, 202.10it/s]\u001b[A\n",
      "Training FF Layers | Epoch 1: 406it [00:03, 209.04it/s]\u001b[A\n",
      "Training FF Layers | Epoch 1: 428it [00:03, 210.52it/s]\u001b[A\n",
      "Training FF Layers | Epoch 1: 452it [00:03, 216.23it/s]\u001b[A\n",
      "Training FF Layers | Epoch 1: 477it [00:03, 222.87it/s]\u001b[A\n",
      "Training FF Layers | Epoch 1: 500it [00:03, 222.32it/s]\u001b[A\n",
      "Training FF Layers | Epoch 1: 523it [00:04, 223.81it/s]\u001b[A\n",
      "Training FF Layers | Epoch 1: 548it [00:04, 231.20it/s]\u001b[A\n",
      "Training FF Layers | Epoch 1: 572it [00:04, 229.31it/s]\u001b[A\n",
      "Training FF Layers | Epoch 1: 595it [00:04, 229.00it/s]\u001b[A\n",
      "Training FF Layers | Epoch 1: 618it [00:04, 216.22it/s]\u001b[A\n",
      "Training FF Layers | Epoch 1: 640it [00:04, 214.27it/s]\u001b[A\n",
      "Training FF Layers | Epoch 1: 662it [00:04, 206.48it/s]\u001b[A\n",
      "Training FF Layers | Epoch 1: 683it [00:04, 197.39it/s]\u001b[A\n",
      "Training FF Layers | Epoch 1: 705it [00:04, 194.74it/s]\u001b[A\n",
      "Training FF Layers | Epoch 1: 726it [00:05, 190.04it/s]\u001b[A\n",
      "Training FF Layers | Epoch 1: 746it [00:05, 185.28it/s]\u001b[A\n",
      "Training FF Layers | Epoch 1: 765it [00:05, 183.03it/s]\u001b[A\n",
      "Training FF Layers | Epoch 1: 786it [00:05, 185.65it/s]\u001b[A\n",
      "Training FF Layers | Epoch 1: 805it [00:05, 186.05it/s]\u001b[A\n",
      "Training FF Layers | Epoch 1: 827it [00:05, 186.96it/s]\u001b[A\n",
      "Training FF Layers | Epoch 1: 846it [00:05, 187.67it/s]\u001b[A\n",
      "Training FF Layers | Epoch 1: 868it [00:05, 187.58it/s]\u001b[A\n",
      "Training FF Layers | Epoch 1: 889it [00:05, 183.78it/s]\u001b[A\n",
      "Training FF Layers | Epoch 1: 909it [00:06, 186.64it/s]\u001b[A\n",
      "Training FF Layers | Epoch 1: 930it [00:06, 188.52it/s]\u001b[A\n",
      "Training FF Layers: 100%|████████████████████████████████████████████████████████████████| 2/2 [00:53<00:00, 26.85s/it]\n",
      "Training Last Layer:   0%|                                                                       | 0/2 [00:00<?, ?it/s]\n",
      "Training Last Layer | Epoch 0:   0%|                                                           | 0/938 [00:00<?, ?it/s]\u001b[A\n",
      "Training Last Layer | Epoch 0:   0%|                                                   | 1/938 [00:01<26:38,  1.71s/it]\u001b[A\n",
      "Training Last Layer | Epoch 0:   2%|▉                                                 | 17/938 [00:01<01:11, 12.81it/s]\u001b[A\n",
      "Training Last Layer | Epoch 0:   4%|█▊                                                | 34/938 [00:01<00:32, 28.07it/s]\u001b[A\n",
      "Training Last Layer | Epoch 0:   6%|██▉                                               | 55/938 [00:02<00:17, 49.77it/s]\u001b[A\n",
      "Training Last Layer | Epoch 0:  11%|█████▏                                          | 101/938 [00:02<00:07, 108.73it/s]\u001b[A\n",
      "Training Last Layer | Epoch 0:  16%|███████▌                                        | 147/938 [00:02<00:04, 166.24it/s]\u001b[A\n",
      "Training Last Layer | Epoch 0:  21%|██████████                                      | 197/938 [00:02<00:03, 226.86it/s]\u001b[A\n",
      "Training Last Layer | Epoch 0:  26%|████████████▍                                   | 244/938 [00:02<00:02, 273.22it/s]\u001b[A\n",
      "Training Last Layer | Epoch 0:  31%|██████████████▉                                 | 292/938 [00:02<00:02, 313.83it/s]\u001b[A\n",
      "Training Last Layer | Epoch 0:  36%|█████████████████▎                              | 339/938 [00:02<00:01, 343.69it/s]\u001b[A\n",
      "Training Last Layer | Epoch 0:  41%|███████████████████▊                            | 386/938 [00:02<00:01, 363.91it/s]\u001b[A\n",
      "Training Last Layer | Epoch 0:  46%|█████████████████████▉                          | 428/938 [00:02<00:01, 376.12it/s]\u001b[A\n",
      "Training Last Layer | Epoch 0:  50%|████████████████████████                        | 469/938 [00:03<00:01, 353.77it/s]\u001b[A\n",
      "Training Last Layer | Epoch 0:  54%|█████████████████████████▉                      | 507/938 [00:03<00:01, 360.38it/s]\u001b[A\n",
      "Training Last Layer | Epoch 0:  59%|████████████████████████████▎                   | 553/938 [00:03<00:01, 381.20it/s]\u001b[A\n",
      "Training Last Layer | Epoch 0:  64%|██████████████████████████████▌                 | 597/938 [00:03<00:00, 397.30it/s]\u001b[A\n",
      "Training Last Layer | Epoch 0:  69%|████████████████████████████████▉               | 644/938 [00:03<00:00, 417.82it/s]\u001b[A\n",
      "Training Last Layer | Epoch 0:  74%|███████████████████████████████████▌            | 695/938 [00:03<00:00, 434.16it/s]\u001b[A\n",
      "Training Last Layer | Epoch 0:  79%|██████████████████████████████████████          | 743/938 [00:03<00:00, 446.91it/s]\u001b[A\n"
     ]
    },
    {
     "name": "stderr",
     "output_type": "stream",
     "text": [
      "Training Last Layer | Epoch 0:  84%|████████████████████████████████████████▍       | 789/938 [00:03<00:00, 442.76it/s]\u001b[A\n",
      "Training Last Layer | Epoch 0:  90%|███████████████████████████████████████████     | 841/938 [00:03<00:00, 452.30it/s]\u001b[A\n",
      "Training Last Layer | Epoch 0:  95%|█████████████████████████████████████████████▋  | 894/938 [00:03<00:00, 461.58it/s]\u001b[A\n",
      "Training Last Layer:  50%|███████████████████████████████▌                               | 1/2 [00:04<00:04,  4.44s/it]\u001b[A\n",
      "Training Last Layer | Epoch 1:   0%|                                                           | 0/938 [00:00<?, ?it/s]\u001b[A\n",
      "Training Last Layer | Epoch 1:   0%|                                                   | 1/938 [00:01<25:22,  1.63s/it]\u001b[A\n",
      "Training Last Layer | Epoch 1:   1%|▌                                                 | 11/938 [00:01<01:48,  8.58it/s]\u001b[A\n",
      "Training Last Layer | Epoch 1:   4%|██▏                                               | 40/938 [00:01<00:24, 37.11it/s]\u001b[A\n",
      "Training Last Layer | Epoch 1:   7%|███▌                                              | 68/938 [00:01<00:12, 67.09it/s]\u001b[A\n",
      "Training Last Layer | Epoch 1:  12%|█████▋                                          | 110/938 [00:02<00:06, 118.90it/s]\u001b[A\n",
      "Training Last Layer | Epoch 1:  17%|███████▉                                        | 156/938 [00:02<00:04, 175.93it/s]\u001b[A\n",
      "Training Last Layer | Epoch 1:  22%|██████████▍                                     | 204/938 [00:02<00:03, 231.71it/s]\u001b[A\n",
      "Training Last Layer | Epoch 1:  27%|████████████▉                                   | 254/938 [00:02<00:02, 284.00it/s]\u001b[A\n",
      "Training Last Layer | Epoch 1:  32%|███████████████▌                                | 303/938 [00:02<00:01, 325.68it/s]\u001b[A\n",
      "Training Last Layer | Epoch 1:  38%|██████████████████▏                             | 355/938 [00:02<00:01, 362.80it/s]\u001b[A\n",
      "Training Last Layer | Epoch 1:  43%|████████████████████▉                           | 408/938 [00:02<00:01, 396.02it/s]\u001b[A\n",
      "Training Last Layer | Epoch 1:  49%|███████████████████████▌                        | 461/938 [00:02<00:01, 420.34it/s]\u001b[A\n",
      "Training Last Layer | Epoch 1:  55%|██████████████████████████▎                     | 514/938 [00:02<00:00, 438.20it/s]\u001b[A\n",
      "Training Last Layer | Epoch 1:  60%|████████████████████████████▋                   | 561/938 [00:03<00:00, 442.85it/s]\u001b[A\n",
      "Training Last Layer | Epoch 1:  65%|███████████████████████████████▏                | 609/938 [00:03<00:00, 447.65it/s]\u001b[A\n",
      "Training Last Layer | Epoch 1:  70%|█████████████████████████████████▌              | 656/938 [00:03<00:00, 432.00it/s]\u001b[A\n",
      "Training Last Layer | Epoch 1:  75%|███████████████████████████████████▊            | 701/938 [00:03<00:00, 434.55it/s]\u001b[A\n",
      "Training Last Layer | Epoch 1:  80%|██████████████████████████████████████▏         | 746/938 [00:03<00:00, 421.69it/s]\u001b[A\n",
      "Training Last Layer | Epoch 1:  84%|████████████████████████████████████████▍       | 789/938 [00:03<00:00, 423.74it/s]\u001b[A\n",
      "Training Last Layer | Epoch 1:  89%|██████████████████████████████████████████▌     | 832/938 [00:03<00:00, 425.51it/s]\u001b[A\n",
      "Training Last Layer | Epoch 1:  94%|████████████████████████████████████████████▉   | 878/938 [00:03<00:00, 426.06it/s]\u001b[A\n",
      "Training Last Layer | Epoch 1:  98%|███████████████████████████████████████████████▏| 922/938 [00:03<00:00, 425.24it/s]\u001b[A\n",
      "Training Last Layer: 100%|███████████████████████████████████████████████████████████████| 2/2 [00:08<00:00,  4.35s/it]\u001b[A\n"
     ]
    }
   ],
   "source": [
    "loss = train(unsupervised_ff, pos_dataloader, neg_dataloader)"
   ]
  },
  {
   "cell_type": "code",
   "execution_count": 33,
   "id": "ef6f08dc",
   "metadata": {},
   "outputs": [
    {
     "data": {
      "image/png": "[encoded data removed]",
      "text/plain": [
       "<Figure size 640x480 with 1 Axes>"
      ]
     },
     "metadata": {},
     "output_type": "display_data"
    }
   ],
   "source": [
    "plot_loss(loss)"
   ]
  },
  {
   "cell_type": "code",
   "execution_count": 29,
   "id": "40e360a0",
   "metadata": {},
   "outputs": [
    {
     "name": "stderr",
     "output_type": "stream",
     "text": [
      "\n",
      "Evaluating model:   0%|                                                                        | 0/938 [00:00<?, ?it/s]\u001b[A\n",
      "Evaluating model:   0%|                                                                | 1/938 [00:01<27:00,  1.73s/it]\u001b[A\n",
      "Evaluating model:   2%|█▏                                                             | 18/938 [00:01<01:08, 13.48it/s]\u001b[A\n",
      "Evaluating model:   5%|███▎                                                           | 49/938 [00:01<00:20, 42.55it/s]\u001b[A\n",
      "Evaluating model:  11%|██████▊                                                      | 105/938 [00:02<00:07, 105.50it/s]\u001b[A\n",
      "Evaluating model:  18%|██████████▉                                                  | 168/938 [00:02<00:04, 182.27it/s]\u001b[A\n",
      "Evaluating model:  25%|███████████████▎                                             | 236/938 [00:02<00:02, 266.64it/s]\u001b[A\n",
      "Evaluating model:  32%|███████████████████▊                                         | 304/938 [00:02<00:01, 347.79it/s]\u001b[A\n",
      "Evaluating model:  40%|████████████████████████▏                                    | 371/938 [00:02<00:01, 418.63it/s]\u001b[A\n",
      "Evaluating model:  48%|█████████████████████████████                                | 447/938 [00:02<00:01, 483.32it/s]\u001b[A\n",
      "Evaluating model:  55%|█████████████████████████████████▎                           | 513/938 [00:02<00:00, 525.46it/s]\u001b[A\n",
      "Evaluating model:  63%|██████████████████████████████████████▎                      | 590/938 [00:02<00:00, 566.78it/s]\u001b[A\n",
      "Evaluating model:  70%|██████████████████████████████████████████▉                  | 661/938 [00:02<00:00, 601.49it/s]\u001b[A\n",
      "Evaluating model:  78%|███████████████████████████████████████████████▊             | 736/938 [00:02<00:00, 628.21it/s]\u001b[A\n",
      "Evaluating model:  86%|████████████████████████████████████████████████████▌        | 808/938 [00:03<00:00, 638.34it/s]\u001b[A\n",
      "Evaluating model:  94%|█████████████████████████████████████████████████████████▎   | 881/938 [00:03<00:00, 643.65it/s]\u001b[A\n",
      "                                                                                                                       \u001b[A"
     ]
    },
    {
     "name": "stdout",
     "output_type": "stream",
     "text": [
      "Train dataset scores:  accuracy_score: 0.9043\n"
     ]
    },
    {
     "name": "stderr",
     "output_type": "stream",
     "text": [
      "\n",
      "Evaluating model:   0%|                                                                        | 0/157 [00:00<?, ?it/s]\u001b[A\n",
      "Evaluating model:   1%|▍                                                               | 1/157 [00:01<04:00,  1.54s/it]\u001b[A\n",
      "Evaluating model:  17%|██████████▊                                                    | 27/157 [00:01<00:05, 22.56it/s]\u001b[A\n",
      "Evaluating model:  50%|███████████████████████████████▋                               | 79/157 [00:01<00:01, 76.02it/s]\u001b[A\n",
      "Evaluating model:  87%|████████████████████████████████████████████████████▊        | 136/157 [00:01<00:00, 139.38it/s]\u001b[A\n",
      "                                                                                                                       \u001b[A"
     ]
    },
    {
     "name": "stdout",
     "output_type": "stream",
     "text": [
      "Test dataset scores:  accuracy_score: 0.9007\n"
     ]
    }
   ],
   "source": [
    "unsupervised_ff.evaluate(pos_dataloader, dataset_type=\"Train\")\n",
    "unsupervised_ff.evaluate(test_dataloader, dataset_type=\"Test\")"
   ]
  },
  {
   "cell_type": "code",
   "execution_count": null,
   "id": "6003e717",
   "metadata": {},
   "outputs": [],
   "source": []
  }
 ],
 "metadata": {
  "kernelspec": {
   "display_name": "Python 3 (ipykernel)",
   "language": "python",
   "name": "python3"
  },
  "language_info": {
   "codemirror_mode": {
    "name": "ipython",
    "version": 3
   },
   "file_extension": ".py",
   "mimetype": "text/x-python",
   "name": "python",
   "nbconvert_exporter": "python",
   "pygments_lexer": "ipython3",
   "version": "3.11.3"
  }
 },
 "nbformat": 4,
 "nbformat_minor": 5
}
