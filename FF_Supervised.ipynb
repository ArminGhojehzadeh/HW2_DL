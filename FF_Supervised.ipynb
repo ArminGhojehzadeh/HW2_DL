{
 "cells": [
  {
   "cell_type": "markdown",
   "id": "c3ee81a8",
   "metadata": {},
   "source": [
    "# Definition of Necessary Functions and Classes:\n",
    "A. Function to Generate Negative Labels: Generate negative samples for training.\n",
    "\n",
    "B. Function to Overlay Label onto the Input Data: Overlay the correct class onto the input data for positive forward pass.\n",
    "\n",
    "C. Custom Net Class: Definition of the network using the custom forward-forward approach.\n",
    "\n",
    "D. Custom Layer Class: Definition of a custom layer class to be used in the network.\n",
    "\n",
    "E. Network Hyperparameters and Device Setup: Set the hyperparameters for the network and configure the computation device."
   ]
  },
  {
   "cell_type": "markdown",
   "id": "b1f243de",
   "metadata": {},
   "source": [
    "# Implementation Steps:\n",
    "1. Load Data: Load the MNIST dataset for training and testing.\n",
    "\n",
    "2. Create Network: Instantiate the network architecture.\n",
    "\n",
    "3. Train the Network: Train the network using the forward-forward algorithm.\n",
    "\n",
    "4. Test the Network: Test the network's performance on the MNIST test set."
   ]
  },
  {
   "cell_type": "markdown",
   "id": "354a7cc4",
   "metadata": {},
   "source": [
    "# Import Libraries"
   ]
  },
  {
   "cell_type": "code",
   "execution_count": 15,
   "id": "962b5a73",
   "metadata": {},
   "outputs": [],
   "source": [
    "import matplotlib.pyplot as plt\n",
    "from IPython.display import clear_output\n",
    "import torch \n",
    "import torch.nn as nn  \n",
    "import torchvision\n",
    "from torchvision.datasets import MNIST \n",
    "from torchvision.transforms import Compose, ToTensor, Normalize, Lambda \n",
    "from torch.utils.data import DataLoader \n",
    "from torch.optim import Adam "
   ]
  },
  {
   "cell_type": "markdown",
   "id": "0902cc57",
   "metadata": {},
   "source": [
    "# A. Function to generate negative labels"
   ]
  },
  {
   "cell_type": "code",
   "execution_count": 16,
   "id": "d9e2b3a0",
   "metadata": {},
   "outputs": [],
   "source": [
    "# Generates negative labels for the training data, which are required for contrastive divergence training\n",
    "\n",
    "def get_y_neg(y):\n",
    "\n",
    "    # clone the original labels\n",
    "    y_neg = y.clone()\n",
    "\n",
    "    # loop through each sample in the labels\n",
    "    for idx, y_samp in enumerate(y):\n",
    "        \n",
    "        # create a list of all possible class labels\n",
    "        allowed_indices = list(range(10))\n",
    "\n",
    "        # remove the correct label from the list, leaving only incorrect labels\n",
    "        allowed_indices.remove(y_samp.item())\n",
    "\n",
    "        # assigning a random label from allowed_indices to y_neg[idx].\n",
    "        y_neg[idx] = torch.tensor(allowed_indices)[torch.randint(len(allowed_indices), size=(1,))].item()\n",
    "\n",
    "    # return the labels with incorrect class, moved to the specified device (CPU or GPU)\n",
    "    return y_neg.to(device)"
   ]
  },
  {
   "cell_type": "markdown",
   "id": "138159d3",
   "metadata": {},
   "source": [
    "# B. Function to overlay label onto the input data"
   ]
  },
  {
   "cell_type": "code",
   "execution_count": 17,
   "id": "6855af62",
   "metadata": {},
   "outputs": [],
   "source": [
    "# Overlays label info onto the input data, making a certain position in the tensor representative of the label\n",
    "\n",
    "def overlay_y_on_x(x, y, classes=10):\n",
    "    \n",
    "    # Create a copy of the input tensor x\n",
    "    x_ = x.clone()\n",
    "\n",
    "    # for all samples, set the first 10 column values to 0\n",
    "    x_[:, :classes] *= 0.0\n",
    "\n",
    "    # For each sample, set the feature at index corresponding to the class y to be the max value in x\n",
    "    x_[range(x.shape[0]), y] = x.max()\n",
    "\n",
    "    # Return the transformed tensor\n",
    "    return x_"
   ]
  },
  {
   "cell_type": "markdown",
   "id": "ed39b72d",
   "metadata": {},
   "source": [
    "# C. Custom Net Class"
   ]
  },
  {
   "cell_type": "code",
   "execution_count": 19,
   "id": "6ab2d6fc",
   "metadata": {},
   "outputs": [],
   "source": [
    "# Define a Net class that inherits from torch.nn.Module which is the base class for all neural network modules in PyTorch.\n",
    "class Net(torch.nn.Module):\n",
    "\n",
    "    # Initialize the Net class with dimensions of the neural network layers\n",
    "    def __init__(self, dims):\n",
    "\n",
    "        # Initialize the parent class torch.nn.Module, Net is the subclass and torch.nn.Module is the parent class\n",
    "        super().__init__()\n",
    "\n",
    "        # Initialize an empty layers list that will store the layers of the neural network\n",
    "        self.layers = []\n",
    "\n",
    "        # Create the layers of the neural network\n",
    "        for d in range(len(dims) - 1):\n",
    "            \n",
    "            # Append a new layer to the layers list and move it to the appropriate device\n",
    "            self.layers = self.layers + [Layer(dims[d], dims[d + 1]).to(device)]\n",
    "\n",
    "    # Define a function to make predictions using the neural network\n",
    "    def predict(self, x):\n",
    "\n",
    "        # This list will store a measure of how much the input tensor x looks like each possible digit (from 0 to 9).\n",
    "        goodness_per_label = []\n",
    "\n",
    "        # For each possible label (0 to 9)\n",
    "        for label in range(10):\n",
    "\n",
    "            # Apply the label overlay to the input to make h tensor (50000, 784) of same size as x \n",
    "            h = overlay_y_on_x(x, label)\n",
    "\n",
    "            \n",
    "\n",
    "            # Create a list to store the goodness of each layer for this label\n",
    "            goodness = []\n",
    "\n",
    "            # Pass the input through each Layer class element in layers list. \n",
    "            for layer in self.layers:\n",
    "                \n",
    "                # Apply the current layer to the transformed input tensor h, and then stores the result back into h.\n",
    "                h = layer(h)\n",
    "\n",
    "                # after layer 1, h size: (10000, 500)\n",
    "                # after layer 2, h size: (10000, 500)\n",
    "\n",
    "                # Add the squared mean (mean along each rows) of the output of this layer to the goodness list\n",
    "                goodness = goodness + [h.pow(2).mean(1)]\n",
    "\n",
    "                \n",
    "\n",
    "            # Add the sum of the goodness of all layers for this label to the goodness_per_label list\n",
    "            goodness_per_label += [sum(goodness).unsqueeze(1)]\n",
    "\n",
    "            \n",
    "            \n",
    "\n",
    "        # Concatenate all the goodness_per_label tensors along dimension 1\n",
    "        goodness_per_label = torch.cat(goodness_per_label, 1)\n",
    "\n",
    "        \n",
    "\n",
    "        # Return the label with the highest goodness\n",
    "        return goodness_per_label.argmax(1)\n",
    "    \n",
    "        \n",
    "\n",
    "    # Define a function to train the neural network\n",
    "    def train(self, x_pos, x_neg):\n",
    "\n",
    "        # Initialize the positive and negative inputs\n",
    "        h_pos, h_neg = x_pos, x_neg\n",
    "\n",
    "        # For each layer in the neural network\n",
    "        for i, layer in enumerate(self.layers):\n",
    "\n",
    "            # Print which layer is currently being trained\n",
    "            print(\"training layer: \", i)\n",
    "\n",
    "            # Train the layer using the positive and negative inputs\n",
    "            # layer.train() returns the positive and negative outputs of the layer which are 2d tensors of shape (50000, 500) for layer 1 and (50000, 500) for layer 2\n",
    "            h_pos, h_neg = layer.train(h_pos, h_neg)"
   ]
  },
  {
   "cell_type": "markdown",
   "id": "a977dfb8",
   "metadata": {},
   "source": [
    "# D. Custom Layer Class"
   ]
  },
  {
   "cell_type": "code",
   "execution_count": 20,
   "id": "f71ba4cf",
   "metadata": {},
   "outputs": [],
   "source": [
    "# Net is the main network and contains several instances of Layer, which represents individual layers of the network.\n",
    "class Layer(nn.Linear):\n",
    "\n",
    "    def __init__(self, in_features, out_features, bias=True, device=None, dtype=None):\n",
    "\n",
    "        # Initialize the parent class, torch.nn.Linear\n",
    "        super().__init__(in_features, out_features, bias, device, dtype)\n",
    "\n",
    "        # Define a ReLU (Rectified Linear Unit) activation function\n",
    "        self.relu = torch.nn.ReLU()\n",
    "\n",
    "        # Define an Adam optimizer for this layer, with the learning rate defined by args.lr\n",
    "        self.opt = Adam(self.parameters(), lr=args.lr)\n",
    "\n",
    "        '''\n",
    "        learning rate = 0.3\n",
    "        '''\n",
    "\n",
    "        # Define a threshold for the loss function, specified by args.threshold\n",
    "        self.threshold = args.threshold\n",
    "\n",
    "        '''\n",
    "        3\n",
    "        '''\n",
    "\n",
    "        # Define the number of training epochs for this layer, specified by args.epochs\n",
    "        self.num_epochs = args.epochs\n",
    "\n",
    "        '''\n",
    "        1000\n",
    "        '''\n",
    "\n",
    "    # Make each sample as unit magnitude then do A = X*W.T + B\n",
    "    def forward(self, x):\n",
    "\n",
    "        # Normalize the input tensor along each row\n",
    "        # Each row in x_direction is a unit vector in the direction of the corresponding row in x\n",
    "        x_direction = x / (x.norm(2, 1, keepdim=True) + 1e-4)\n",
    "\n",
    "        \n",
    "        # Compute the linear transformation followed by a ReLU activation\n",
    "        # weight.T is 2D tensor of shape (784, 500)\n",
    "        return self.relu(torch.mm(x_direction, self.weight.T) + self.bias.unsqueeze(0))\n",
    "\n",
    "\n",
    "    # train a layer\n",
    "    def train(self, x_pos, x_neg):\n",
    "        \n",
    "        # initialize lists to hold values\n",
    "        loss_values = []\n",
    "        g_pos_values = []\n",
    "        g_neg_values = []\n",
    "\n",
    "        # initialize figure\n",
    "        fig = plt.figure(figsize=(12,8))\n",
    "\n",
    "        # For each layer epoch \n",
    "        for i in range(self.num_epochs):\n",
    "\n",
    "            # Compute the goodness for the positive and negative samples\n",
    "            g_pos = self.forward(x_pos).pow(2).mean(1)\n",
    "\n",
    "            g_neg = self.forward(x_neg).pow(2).mean(1)\n",
    "\n",
    "\n",
    "            \n",
    "            # Compute the loss using the computed goodness and the specified threshold\n",
    "            loss = torch.log(1 + torch.exp(torch.cat([-g_pos + self.threshold, g_neg - self.threshold]))).mean()\n",
    "\n",
    "            # Zero the gradients\n",
    "            self.opt.zero_grad()\n",
    "\n",
    "\n",
    "            # Compute the backward pass\n",
    "            loss.backward()\n",
    "\n",
    "\n",
    "            # Perform a step of optimization\n",
    "            self.opt.step()\n",
    "\n",
    "\n",
    "            if i % args.log_interval == 0:\n",
    "                loss_values.append(loss.item())\n",
    "                g_pos_values.append(g_pos.mean().item())  # take mean of all batch values\n",
    "                g_neg_values.append(g_neg.mean().item())  # take mean of all batch values\n",
    "\n",
    "                # plotting\n",
    "                plt.subplot(3,1,1)\n",
    "                plt.plot(loss_values, color='blue')\n",
    "                plt.title(\"Loss during training\")\n",
    "\n",
    "                plt.subplot(3,1,2)\n",
    "                plt.plot(g_pos_values, color='green')\n",
    "                plt.title(\"g_pos during training\")\n",
    "\n",
    "                plt.subplot(3,1,3)\n",
    "                plt.plot(g_neg_values, color='red')\n",
    "                plt.title(\"g_neg during training\")\n",
    "\n",
    "                plt.tight_layout()\n",
    "                clear_output(wait=True)  # this clears the output of the cell, useful for updating the plots\n",
    "                plt.show()\n",
    "\n",
    "            # Print the loss at each step\n",
    "            print(f'Loss at step {i}: {loss.item()}')\n",
    "\n",
    "        # compute the output of the layer (A) for both positive and negative samples\n",
    "        return self.forward(x_pos).detach(), self.forward(x_neg).detach()"
   ]
  },
  {
   "cell_type": "markdown",
   "id": "de34fbb1",
   "metadata": {},
   "source": [
    "# E. Network Hyperparameters and device setup"
   ]
  },
  {
   "cell_type": "code",
   "execution_count": 26,
   "id": "32a9c22a",
   "metadata": {},
   "outputs": [],
   "source": [
    "class Args:\n",
    "    train_size = 5000\n",
    "    test_size = 1000\n",
    "    epochs = 50\n",
    "    lr = 0.05\n",
    "    no_cuda = True\n",
    "    no_mps = True\n",
    "    save_model = False \n",
    "    threshold = 0\n",
    "    seed = 1234\n",
    "    log_interval = 10\n",
    "    \n",
    "args = Args()\n",
    "\n",
    "\n",
    "device = torch.device(\"cpu\")\n",
    "\n",
    "train_kwargs = {\"batch_size\": args.train_size} # dictionary specifying train batch size\n",
    "test_kwargs = {\"batch_size\": args.test_size} # dictionary specifying test batch size\n",
    "\n"
   ]
  },
  {
   "cell_type": "markdown",
   "id": "52e21694",
   "metadata": {},
   "source": [
    "# 1. Load data"
   ]
  },
  {
   "cell_type": "code",
   "execution_count": 27,
   "id": "a9c040b4",
   "metadata": {},
   "outputs": [],
   "source": [
    "# 1) Converted to a tensor. MNIST are PIL images, so convert them to tensors to use with PyTorch\n",
    "# 2) Normalized for the MNIST dataset\n",
    "# 3) Flattened to a 1D tensor of 784 elements (28x28 pixels)\n",
    "transform = Compose( \n",
    "    [\n",
    "        ToTensor(),                                                                   \n",
    "        Normalize((0.1307,), (0.3081,)),       \n",
    "        Lambda(lambda x: torch.flatten(x)),    \n",
    "    ]\n",
    ")\n",
    "\n",
    "# Create train and test DataLoader instances using the MNIST dataset\n",
    "train_loader = DataLoader(MNIST(\"./data/\", train=True, download=True, transform=transform), **train_kwargs) \n",
    "test_loader = DataLoader(MNIST(\"./data/\", train=False, download=True, transform=transform), **test_kwargs) "
   ]
  },
  {
   "cell_type": "markdown",
   "id": "a9dcfbbb",
   "metadata": {},
   "source": [
    "# 2. Create network"
   ]
  },
  {
   "cell_type": "code",
   "execution_count": 28,
   "id": "6b5559e6",
   "metadata": {},
   "outputs": [],
   "source": [
    "# Create an instance of Net class with an input dim of 784 neurons to match the flattened 28x28 pixel MNIST images\n",
    "# and two intermediate dims of 500 each. 3 dims so we will have a 2 layer network.\n",
    "net =  Net([784, 100, 100, 100, 100])"
   ]
  },
  {
   "cell_type": "markdown",
   "id": "ca8bef80",
   "metadata": {},
   "source": [
    "# 3. Train the network"
   ]
  },
  {
   "cell_type": "code",
   "execution_count": 29,
   "id": "2c13437a",
   "metadata": {},
   "outputs": [],
   "source": [
    "# x is a 2D tensor of size (batch_size, 784) and y is a 1D tensor of size (batch_size,).\n",
    "x, y = next(iter(train_loader))\n",
    "\n",
    "# Move the input data and labels to the specified device (CPU or GPU).\n",
    "x, y = x.to(device), y.to(device)\n",
    "\n",
    "# overlay_y_on_x() function returns a 2D tensor of size (batch_size, 784)\n",
    "x_pos = overlay_y_on_x(x, y)\n",
    "\n",
    "# get_y_neg() function returns a 1D tensor of size (batch_size,) with the negative labels.\n",
    "y_neg = get_y_neg(y)\n",
    "\n",
    "# overlay_y_on_x() function returns a 2D tensor of size (batch_size, 784)\n",
    "x_neg = overlay_y_on_x(x, y_neg)"
   ]
  },
  {
   "cell_type": "code",
   "execution_count": 30,
   "id": "483b44ef",
   "metadata": {},
   "outputs": [
    {
     "data": {
      "image/png": "[encoded data removed]",
      "text/plain": [
       "<Figure size 640x480 with 3 Axes>"
      ]
     },
     "metadata": {},
     "output_type": "display_data"
    },
    {
     "data": {
      "image/png": "[encoded data removed]",
      "text/plain": [
       "<Figure size 640x480 with 3 Axes>"
      ]
     },
     "metadata": {},
     "output_type": "display_data"
    },
    {
     "data": {
      "image/png": "[encoded data removed]",
      "text/plain": [
       "<Figure size 640x480 with 3 Axes>"
      ]
     },
     "metadata": {},
     "output_type": "display_data"
    },
    {
     "data": {
      "image/png": "[encoded data removed]",
      "text/plain": [
       "<Figure size 640x480 with 3 Axes>"
      ]
     },
     "metadata": {},
     "output_type": "display_data"
    },
    {
     "data": {
      "image/png": "[encoded data removed]",
      "text/plain": [
       "<Figure size 640x480 with 3 Axes>"
      ]
     },
     "metadata": {},
     "output_type": "display_data"
    }
   ],
   "source": [
    "# Convert the tensors back to numpy arrays for plotting\n",
    "x_np = x.cpu().numpy()\n",
    "x_pos_np = x_pos.cpu().numpy()\n",
    "x_neg_np = x_neg.cpu().numpy()\n",
    "\n",
    "# Reshape the images from 784 to 28x28 if necessary\n",
    "x_np = x_np.reshape(-1, 28, 28)\n",
    "x_pos_np = x_pos_np.reshape(-1, 28, 28)\n",
    "x_neg_np = x_neg_np.reshape(-1, 28, 28)\n",
    "\n",
    "# Plot 5 samples\n",
    "for i in range(5):\n",
    "    fig, axs = plt.subplots(1, 3)\n",
    "    \n",
    "    # Original images\n",
    "    axs[0].imshow(x_np[i], cmap='gray')\n",
    "    axs[0].set_title('Original')\n",
    "    axs[0].axis('off')\n",
    "\n",
    "    # Positive images\n",
    "    axs[1].imshow(x_pos_np[i], cmap='gray')\n",
    "    axs[1].set_title('Positive')\n",
    "    axs[1].axis('off')\n",
    "\n",
    "    # Negative images\n",
    "    axs[2].imshow(x_neg_np[i], cmap='gray')\n",
    "    axs[2].set_title('Negative')\n",
    "    axs[2].axis('off')\n",
    "\n",
    "    plt.show()"
   ]
  },
  {
   "cell_type": "code",
   "execution_count": 31,
   "id": "3036a559",
   "metadata": {},
   "outputs": [
    {
     "data": {
      "image/png": "[encoded data removed]",
      "text/plain": [
       "<Figure size 640x480 with 3 Axes>"
      ]
     },
     "metadata": {},
     "output_type": "display_data"
    },
    {
     "name": "stdout",
     "output_type": "stream",
     "text": [
      "Loss at step 40: 0.6918973922729492\n",
      "Loss at step 41: 0.6918821334838867\n",
      "Loss at step 42: 0.691881000995636\n",
      "Loss at step 43: 0.6918836236000061\n",
      "Loss at step 44: 0.6918764114379883\n",
      "Loss at step 45: 0.6918575167655945\n",
      "Loss at step 46: 0.691837728023529\n",
      "Loss at step 47: 0.6918261051177979\n",
      "Loss at step 48: 0.691821277141571\n",
      "Loss at step 49: 0.6918166875839233\n"
     ]
    }
   ],
   "source": [
    "# Train the network with the positive and negative examples.\n",
    "net.train(x_pos, x_neg)"
   ]
  },
  {
   "cell_type": "code",
   "execution_count": 32,
   "id": "1184c151",
   "metadata": {},
   "outputs": [
    {
     "name": "stdout",
     "output_type": "stream",
     "text": [
      "Train Accuracy: 82.32%\n"
     ]
    }
   ],
   "source": [
    "# Predict the labels for the training data, compare them to the actual labels, and calculate the error rate.\n",
    "#print(\"train error:\", 1.0 - net.predict(x).eq(y).float().mean().item())\n",
    "print(\"Train Accuracy: {:.2f}%\".format(100 * net.predict(x).eq(y).float().mean().item()))"
   ]
  },
  {
   "cell_type": "markdown",
   "id": "a42b07ad",
   "metadata": {},
   "source": [
    "# 4. Test the Network"
   ]
  },
  {
   "cell_type": "code",
   "execution_count": 33,
   "id": "3773bf04",
   "metadata": {},
   "outputs": [
    {
     "name": "stdout",
     "output_type": "stream",
     "text": [
      "Test Accuracy: 76.00%\n"
     ]
    }
   ],
   "source": [
    "# Fetch one batch of the test data.\n",
    "x_te, y_te = next(iter(test_loader))\n",
    "\n",
    "# Move the test data and labels to the specified device (CPU or GPU).\n",
    "x_te, y_te = x_te.to(device), y_te.to(device)\n",
    "\n",
    "\n",
    "# Predict the labels for the test data, compare them to the actual labels, and calculate the error rate.\n",
    "#print(\"test error:\", 1.0 - net.predict(x_te).eq(y_te).float().mean().item())\n",
    "print(\"Test Accuracy: {:.2f}%\".format(100 * net.predict(x_te).eq(y_te).float().mean().item()))"
   ]
  }
 ],
 "metadata": {
  "kernelspec": {
   "display_name": "Python 3 (ipykernel)",
   "language": "python",
   "name": "python3"
  },
  "language_info": {
   "codemirror_mode": {
    "name": "ipython",
    "version": 3
   },
   "file_extension": ".py",
   "mimetype": "text/x-python",
   "name": "python",
   "nbconvert_exporter": "python",
   "pygments_lexer": "ipython3",
   "version": "3.11.3"
  }
 },
 "nbformat": 4,
 "nbformat_minor": 5
}
